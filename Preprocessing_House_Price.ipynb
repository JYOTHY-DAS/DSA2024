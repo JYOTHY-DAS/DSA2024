{
 "cells": [
  {
   "cell_type": "code",
   "execution_count": 1494,
   "id": "a8c1e2ee-b03d-4c25-b31c-991a73b7be2c",
   "metadata": {},
   "outputs": [],
   "source": [
    "# Tools and technologies used\n",
    "### Python: Programming language\n",
    "### Pandas: For data cleaning\n",
    "### matplotlib: For data visualisation\n",
    "### sklearn: For model building"
   ]
  },
  {
   "cell_type": "markdown",
   "id": "5864a32f-7b45-4e81-bc75-079143fd96ea",
   "metadata": {},
   "source": [
    "# House Pricing Data\n",
    "* ID: Unique identifier for each property.\n",
    "* Zipcode: The postal code of the property's location.\n",
    "* Latitude: Geographic latitude of the property.\n",
    "* Longitude: Geographic longitude of the property.\n",
    "    \n",
    "## Categorical data \n",
    "* No of Bedrooms\n",
    "* No of Floors: Number of floors in the house.\n",
    "* Waterfront View: Indicates if the house has a waterfront view (Yes/No).\n",
    "* No of Times Visited: Number of times the house was visited by prospective buyers.\n",
    "* Condition of the House: The overall condition rating of the house.\n",
    "* Overall Grade: The grade given to the house based on various factors.\n",
    "* Renovated Year: Year the house was renovated; 0 indicates no renovation.\n",
    "\n",
    "## Numerical data\n",
    "* Date House was Sold\n",
    "* Sale Price\n",
    "* No of Bathrooms\n",
    "* Flat Area (in Sqft): The interior area of the house in square feet.\n",
    "* Lot Area (in Sqft): The total area of the property in square feet.\n",
    "* Living Area after Renovation (in Sqft): The total living area after any renovation work.\n",
    "* Lot Area after Renovation (in Sqft): The lot area after renovations.\n",
    "* Area of the House from Basement (in Sqft): Total area of the house including basement space.\n",
    "* Basement Area (in Sqft): 0 means no renovation.\n",
    "* Age of House (in Years): The age of the house at the time of sale.\n",
    "\n",
    "## Note:\n",
    "##### The float values in the \"No of Bathrooms\" column represent fractional or partial bathrooms. Here's what they mean:\n",
    "\n",
    "##### Full Bathroom (1.0):\n",
    "* A full bathroom includes a sink, toilet, and either a shower, bathtub, or both.\n",
    "    \n",
    "##### Partial Bathroom (0.25, 0.5, or 0.75):\n",
    "* 0.25: Indicates only one feature, such as a sink or toilet.\n",
    "* 0.5: Typically includes a sink and toilet but no shower or bathtub (a \"half bath\").\n",
    "* 0.75: Includes a sink, toilet, and shower, but no bathtub.\n",
    "    \n",
    "##### The total value combines the count of full and partial bathrooms. For example:\n",
    "* 2.25 bathrooms means there are 2 full bathrooms and 1 partial bathroom (0.25).\n",
    "### For analysis purposes, I am rounding off the 'No of Bathrooms' column to the nearest integer and treating it as categorical data."
   ]
  },
  {
   "cell_type": "markdown",
   "id": "63cf5008-5959-401d-986f-59985b63fa47",
   "metadata": {},
   "source": [
    "# Import the libraries"
   ]
  },
  {
   "cell_type": "code",
   "execution_count": 1497,
   "id": "7690f35f-b1c0-48b4-af91-69ae51b77c3a",
   "metadata": {},
   "outputs": [],
   "source": [
    "import pandas as pd \n",
    "import numpy as np \n",
    "import matplotlib.pyplot as plt \n",
    "from sklearn.model_selection import train_test_split"
   ]
  },
  {
   "cell_type": "markdown",
   "id": "4008d9f2-85fa-4e2f-a584-3ff2812791a4",
   "metadata": {},
   "source": [
    "# Load Data"
   ]
  },
  {
   "cell_type": "code",
   "execution_count": 1499,
   "id": "58c57207-27f9-4ee6-a88b-22412eb4a7bb",
   "metadata": {},
   "outputs": [],
   "source": [
    "data= pd.read_csv('C:\\\\Users\\\\Jyothy\\\\Downloads\\\\House_Pricing.csv')"
   ]
  },
  {
   "cell_type": "markdown",
   "id": "83ff9606-f33b-42e3-aae2-a02886c9633a",
   "metadata": {},
   "source": [
    "# Display top 5 rows of dataset"
   ]
  },
  {
   "cell_type": "code",
   "execution_count": 1501,
   "id": "8e53ba0f-c29b-429d-b53b-92e792548d18",
   "metadata": {},
   "outputs": [
    {
     "data": {
      "text/html": [
       "<div>\n",
       "<style scoped>\n",
       "    .dataframe tbody tr th:only-of-type {\n",
       "        vertical-align: middle;\n",
       "    }\n",
       "\n",
       "    .dataframe tbody tr th {\n",
       "        vertical-align: top;\n",
       "    }\n",
       "\n",
       "    .dataframe thead th {\n",
       "        text-align: right;\n",
       "    }\n",
       "</style>\n",
       "<table border=\"1\" class=\"dataframe\">\n",
       "  <thead>\n",
       "    <tr style=\"text-align: right;\">\n",
       "      <th></th>\n",
       "      <th>ID</th>\n",
       "      <th>Date House was Sold</th>\n",
       "      <th>Sale Price</th>\n",
       "      <th>No of Bedrooms</th>\n",
       "      <th>No of Bathrooms</th>\n",
       "      <th>Flat Area (in Sqft)</th>\n",
       "      <th>Lot Area (in Sqft)</th>\n",
       "      <th>No of Floors</th>\n",
       "      <th>Waterfront View</th>\n",
       "      <th>No of Times Visited</th>\n",
       "      <th>...</th>\n",
       "      <th>Overall Grade</th>\n",
       "      <th>Area of the House from Basement (in Sqft)</th>\n",
       "      <th>Basement Area (in Sqft)</th>\n",
       "      <th>Age of House (in Years)</th>\n",
       "      <th>Renovated Year</th>\n",
       "      <th>Zipcode</th>\n",
       "      <th>Latitude</th>\n",
       "      <th>Longitude</th>\n",
       "      <th>Living Area after Renovation (in Sqft)</th>\n",
       "      <th>Lot Area after Renovation (in Sqft)</th>\n",
       "    </tr>\n",
       "  </thead>\n",
       "  <tbody>\n",
       "    <tr>\n",
       "      <th>0</th>\n",
       "      <td>7129300520</td>\n",
       "      <td>14-Oct-17</td>\n",
       "      <td>221900.0</td>\n",
       "      <td>3</td>\n",
       "      <td>1.00</td>\n",
       "      <td>1180.0</td>\n",
       "      <td>5650.0</td>\n",
       "      <td>1.0</td>\n",
       "      <td>No</td>\n",
       "      <td>NaN</td>\n",
       "      <td>...</td>\n",
       "      <td>7</td>\n",
       "      <td>1180.0</td>\n",
       "      <td>0</td>\n",
       "      <td>63</td>\n",
       "      <td>0</td>\n",
       "      <td>98178.0</td>\n",
       "      <td>47.5112</td>\n",
       "      <td>-122.257</td>\n",
       "      <td>1340.0</td>\n",
       "      <td>5650</td>\n",
       "    </tr>\n",
       "    <tr>\n",
       "      <th>1</th>\n",
       "      <td>6414100192</td>\n",
       "      <td>14-Dec-17</td>\n",
       "      <td>538000.0</td>\n",
       "      <td>3</td>\n",
       "      <td>2.25</td>\n",
       "      <td>2570.0</td>\n",
       "      <td>7242.0</td>\n",
       "      <td>2.0</td>\n",
       "      <td>No</td>\n",
       "      <td>NaN</td>\n",
       "      <td>...</td>\n",
       "      <td>7</td>\n",
       "      <td>2170.0</td>\n",
       "      <td>400</td>\n",
       "      <td>67</td>\n",
       "      <td>1991</td>\n",
       "      <td>98125.0</td>\n",
       "      <td>47.7210</td>\n",
       "      <td>-122.319</td>\n",
       "      <td>1690.0</td>\n",
       "      <td>7639</td>\n",
       "    </tr>\n",
       "    <tr>\n",
       "      <th>2</th>\n",
       "      <td>5631500400</td>\n",
       "      <td>15-Feb-16</td>\n",
       "      <td>180000.0</td>\n",
       "      <td>2</td>\n",
       "      <td>1.00</td>\n",
       "      <td>770.0</td>\n",
       "      <td>10000.0</td>\n",
       "      <td>1.0</td>\n",
       "      <td>No</td>\n",
       "      <td>NaN</td>\n",
       "      <td>...</td>\n",
       "      <td>6</td>\n",
       "      <td>770.0</td>\n",
       "      <td>0</td>\n",
       "      <td>85</td>\n",
       "      <td>0</td>\n",
       "      <td>98028.0</td>\n",
       "      <td>47.7379</td>\n",
       "      <td>-122.233</td>\n",
       "      <td>2720.0</td>\n",
       "      <td>8062</td>\n",
       "    </tr>\n",
       "    <tr>\n",
       "      <th>3</th>\n",
       "      <td>2487200875</td>\n",
       "      <td>14-Dec-17</td>\n",
       "      <td>604000.0</td>\n",
       "      <td>4</td>\n",
       "      <td>3.00</td>\n",
       "      <td>1960.0</td>\n",
       "      <td>5000.0</td>\n",
       "      <td>1.0</td>\n",
       "      <td>No</td>\n",
       "      <td>NaN</td>\n",
       "      <td>...</td>\n",
       "      <td>7</td>\n",
       "      <td>1050.0</td>\n",
       "      <td>910</td>\n",
       "      <td>53</td>\n",
       "      <td>0</td>\n",
       "      <td>98136.0</td>\n",
       "      <td>47.5208</td>\n",
       "      <td>-122.393</td>\n",
       "      <td>1360.0</td>\n",
       "      <td>5000</td>\n",
       "    </tr>\n",
       "    <tr>\n",
       "      <th>4</th>\n",
       "      <td>1954400510</td>\n",
       "      <td>15-Feb-16</td>\n",
       "      <td>510000.0</td>\n",
       "      <td>3</td>\n",
       "      <td>2.00</td>\n",
       "      <td>1680.0</td>\n",
       "      <td>8080.0</td>\n",
       "      <td>1.0</td>\n",
       "      <td>No</td>\n",
       "      <td>NaN</td>\n",
       "      <td>...</td>\n",
       "      <td>8</td>\n",
       "      <td>1680.0</td>\n",
       "      <td>0</td>\n",
       "      <td>31</td>\n",
       "      <td>0</td>\n",
       "      <td>98074.0</td>\n",
       "      <td>47.6168</td>\n",
       "      <td>-122.045</td>\n",
       "      <td>1800.0</td>\n",
       "      <td>7503</td>\n",
       "    </tr>\n",
       "  </tbody>\n",
       "</table>\n",
       "<p>5 rows × 21 columns</p>\n",
       "</div>"
      ],
      "text/plain": [
       "           ID Date House was Sold  Sale Price  No of Bedrooms  \\\n",
       "0  7129300520           14-Oct-17    221900.0               3   \n",
       "1  6414100192           14-Dec-17    538000.0               3   \n",
       "2  5631500400           15-Feb-16    180000.0               2   \n",
       "3  2487200875           14-Dec-17    604000.0               4   \n",
       "4  1954400510           15-Feb-16    510000.0               3   \n",
       "\n",
       "   No of Bathrooms  Flat Area (in Sqft)  Lot Area (in Sqft)  No of Floors  \\\n",
       "0             1.00               1180.0              5650.0           1.0   \n",
       "1             2.25               2570.0              7242.0           2.0   \n",
       "2             1.00                770.0             10000.0           1.0   \n",
       "3             3.00               1960.0              5000.0           1.0   \n",
       "4             2.00               1680.0              8080.0           1.0   \n",
       "\n",
       "  Waterfront View No of Times Visited  ... Overall Grade  \\\n",
       "0              No                 NaN  ...             7   \n",
       "1              No                 NaN  ...             7   \n",
       "2              No                 NaN  ...             6   \n",
       "3              No                 NaN  ...             7   \n",
       "4              No                 NaN  ...             8   \n",
       "\n",
       "   Area of the House from Basement (in Sqft)  Basement Area (in Sqft)  \\\n",
       "0                                     1180.0                        0   \n",
       "1                                     2170.0                      400   \n",
       "2                                      770.0                        0   \n",
       "3                                     1050.0                      910   \n",
       "4                                     1680.0                        0   \n",
       "\n",
       "   Age of House (in Years)  Renovated Year  Zipcode  Latitude  Longitude  \\\n",
       "0                       63               0  98178.0   47.5112   -122.257   \n",
       "1                       67            1991  98125.0   47.7210   -122.319   \n",
       "2                       85               0  98028.0   47.7379   -122.233   \n",
       "3                       53               0  98136.0   47.5208   -122.393   \n",
       "4                       31               0  98074.0   47.6168   -122.045   \n",
       "\n",
       "   Living Area after Renovation (in Sqft)  Lot Area after Renovation (in Sqft)  \n",
       "0                                  1340.0                                 5650  \n",
       "1                                  1690.0                                 7639  \n",
       "2                                  2720.0                                 8062  \n",
       "3                                  1360.0                                 5000  \n",
       "4                                  1800.0                                 7503  \n",
       "\n",
       "[5 rows x 21 columns]"
      ]
     },
     "execution_count": 1501,
     "metadata": {},
     "output_type": "execute_result"
    }
   ],
   "source": [
    "data.head()"
   ]
  },
  {
   "cell_type": "markdown",
   "id": "d40771cd-8310-4ee8-b4b4-a1f0bacbdb5b",
   "metadata": {},
   "source": [
    "# Dropping 'ID', 'Zipcode', Latitude and Longitude columns"
   ]
  },
  {
   "cell_type": "code",
   "execution_count": 1505,
   "id": "23d54499-b9f6-4b56-aa53-8aed4ac2b5ac",
   "metadata": {},
   "outputs": [],
   "source": [
    "data = data.drop(['ID', 'Zipcode', 'Latitude', 'Longitude'], axis=1)"
   ]
  },
  {
   "cell_type": "markdown",
   "id": "631e22a2-a815-4618-8a34-4e217572511e",
   "metadata": {},
   "source": [
    "# Display last 2 rows of dataset"
   ]
  },
  {
   "cell_type": "code",
   "execution_count": 1507,
   "id": "e3825efc-3073-48ea-a9f0-ac8d571c376c",
   "metadata": {},
   "outputs": [
    {
     "data": {
      "text/html": [
       "<div>\n",
       "<style scoped>\n",
       "    .dataframe tbody tr th:only-of-type {\n",
       "        vertical-align: middle;\n",
       "    }\n",
       "\n",
       "    .dataframe tbody tr th {\n",
       "        vertical-align: top;\n",
       "    }\n",
       "\n",
       "    .dataframe thead th {\n",
       "        text-align: right;\n",
       "    }\n",
       "</style>\n",
       "<table border=\"1\" class=\"dataframe\">\n",
       "  <thead>\n",
       "    <tr style=\"text-align: right;\">\n",
       "      <th></th>\n",
       "      <th>Date House was Sold</th>\n",
       "      <th>Sale Price</th>\n",
       "      <th>No of Bedrooms</th>\n",
       "      <th>No of Bathrooms</th>\n",
       "      <th>Flat Area (in Sqft)</th>\n",
       "      <th>Lot Area (in Sqft)</th>\n",
       "      <th>No of Floors</th>\n",
       "      <th>Waterfront View</th>\n",
       "      <th>No of Times Visited</th>\n",
       "      <th>Condition of the House</th>\n",
       "      <th>Overall Grade</th>\n",
       "      <th>Area of the House from Basement (in Sqft)</th>\n",
       "      <th>Basement Area (in Sqft)</th>\n",
       "      <th>Age of House (in Years)</th>\n",
       "      <th>Renovated Year</th>\n",
       "      <th>Living Area after Renovation (in Sqft)</th>\n",
       "      <th>Lot Area after Renovation (in Sqft)</th>\n",
       "    </tr>\n",
       "  </thead>\n",
       "  <tbody>\n",
       "    <tr>\n",
       "      <th>21611</th>\n",
       "      <td>15-Jan-16</td>\n",
       "      <td>400000.0</td>\n",
       "      <td>3</td>\n",
       "      <td>2.0</td>\n",
       "      <td>1600.0</td>\n",
       "      <td>2388.0</td>\n",
       "      <td>2.0</td>\n",
       "      <td>No</td>\n",
       "      <td>NaN</td>\n",
       "      <td>Fair</td>\n",
       "      <td>8</td>\n",
       "      <td>1600.0</td>\n",
       "      <td>0</td>\n",
       "      <td>14</td>\n",
       "      <td>0</td>\n",
       "      <td>1410.0</td>\n",
       "      <td>1287</td>\n",
       "    </tr>\n",
       "    <tr>\n",
       "      <th>21612</th>\n",
       "      <td>14-Oct-17</td>\n",
       "      <td>325000.0</td>\n",
       "      <td>2</td>\n",
       "      <td>1.0</td>\n",
       "      <td>1020.0</td>\n",
       "      <td>1076.0</td>\n",
       "      <td>2.0</td>\n",
       "      <td>No</td>\n",
       "      <td>NaN</td>\n",
       "      <td>Fair</td>\n",
       "      <td>7</td>\n",
       "      <td>1020.0</td>\n",
       "      <td>0</td>\n",
       "      <td>10</td>\n",
       "      <td>0</td>\n",
       "      <td>1020.0</td>\n",
       "      <td>1357</td>\n",
       "    </tr>\n",
       "  </tbody>\n",
       "</table>\n",
       "</div>"
      ],
      "text/plain": [
       "      Date House was Sold  Sale Price  No of Bedrooms No of Bathrooms  \\\n",
       "21611           15-Jan-16    400000.0               3             2.0   \n",
       "21612           14-Oct-17    325000.0               2             1.0   \n",
       "\n",
       "       Flat Area (in Sqft)  Lot Area (in Sqft) No of Floors Waterfront View  \\\n",
       "21611               1600.0              2388.0          2.0              No   \n",
       "21612               1020.0              1076.0          2.0              No   \n",
       "\n",
       "      No of Times Visited Condition of the House  Overall Grade  \\\n",
       "21611                 NaN                   Fair              8   \n",
       "21612                 NaN                   Fair              7   \n",
       "\n",
       "       Area of the House from Basement (in Sqft)  Basement Area (in Sqft)  \\\n",
       "21611                                     1600.0                        0   \n",
       "21612                                     1020.0                        0   \n",
       "\n",
       "       Age of House (in Years)  Renovated Year  \\\n",
       "21611                       14               0   \n",
       "21612                       10               0   \n",
       "\n",
       "       Living Area after Renovation (in Sqft)  \\\n",
       "21611                                  1410.0   \n",
       "21612                                  1020.0   \n",
       "\n",
       "       Lot Area after Renovation (in Sqft)  \n",
       "21611                                 1287  \n",
       "21612                                 1357  "
      ]
     },
     "execution_count": 1507,
     "metadata": {},
     "output_type": "execute_result"
    }
   ],
   "source": [
    "data.tail(2)"
   ]
  },
  {
   "cell_type": "markdown",
   "id": "7c527ada-8285-4d8c-957d-340cf717893d",
   "metadata": {},
   "source": [
    "# Find total number of rows and columns"
   ]
  },
  {
   "cell_type": "code",
   "execution_count": 1509,
   "id": "1443fb59-b0fb-4044-bd4b-439baaa99be7",
   "metadata": {},
   "outputs": [
    {
     "data": {
      "text/plain": [
       "(21613, 17)"
      ]
     },
     "execution_count": 1509,
     "metadata": {},
     "output_type": "execute_result"
    }
   ],
   "source": [
    "data.shape"
   ]
  },
  {
   "cell_type": "code",
   "execution_count": 1510,
   "id": "14a0633d-687b-4e9d-a83b-1398bc4edafb",
   "metadata": {},
   "outputs": [
    {
     "name": "stdout",
     "output_type": "stream",
     "text": [
      "Number of rows: 21613\n",
      "Number of columns: 17\n"
     ]
    }
   ],
   "source": [
    "rows=data.shape[0]\n",
    "columns=data.shape[1]\n",
    "print(\"Number of rows:\",rows)\n",
    "print(\"Number of columns:\",columns)"
   ]
  },
  {
   "cell_type": "markdown",
   "id": "602d7a97-4196-49c2-9a62-84968aff519e",
   "metadata": {},
   "source": [
    "# Find data type of each column and memory usage"
   ]
  },
  {
   "cell_type": "code",
   "execution_count": 1512,
   "id": "77c5b06f-51b2-4055-8362-07def7689eb4",
   "metadata": {},
   "outputs": [
    {
     "name": "stdout",
     "output_type": "stream",
     "text": [
      "<class 'pandas.core.frame.DataFrame'>\n",
      "RangeIndex: 21613 entries, 0 to 21612\n",
      "Data columns (total 17 columns):\n",
      " #   Column                                     Non-Null Count  Dtype   \n",
      "---  ------                                     --------------  -----   \n",
      " 0   Date House was Sold                        21613 non-null  object  \n",
      " 1   Sale Price                                 21609 non-null  float64 \n",
      " 2   No of Bedrooms                             21613 non-null  int64   \n",
      " 3   No of Bathrooms                            21609 non-null  category\n",
      " 4   Flat Area (in Sqft)                        21604 non-null  float64 \n",
      " 5   Lot Area (in Sqft)                         21604 non-null  float64 \n",
      " 6   No of Floors                               21613 non-null  category\n",
      " 7   Waterfront View                            21613 non-null  object  \n",
      " 8   No of Times Visited                        2124 non-null   object  \n",
      " 9   Condition of the House                     21613 non-null  object  \n",
      " 10  Overall Grade                              21613 non-null  int64   \n",
      " 11  Area of the House from Basement (in Sqft)  21610 non-null  float64 \n",
      " 12  Basement Area (in Sqft)                    21613 non-null  int64   \n",
      " 13  Age of House (in Years)                    21613 non-null  int64   \n",
      " 14  Renovated Year                             21613 non-null  int64   \n",
      " 15  Living Area after Renovation (in Sqft)     21612 non-null  float64 \n",
      " 16  Lot Area after Renovation (in Sqft)        21613 non-null  int64   \n",
      "dtypes: category(2), float64(5), int64(6), object(4)\n",
      "memory usage: 2.5+ MB\n"
     ]
    }
   ],
   "source": [
    "data.info()"
   ]
  },
  {
   "cell_type": "markdown",
   "id": "1c5e98af-a82b-4dcd-b58e-47ff4bff4c73",
   "metadata": {},
   "source": [
    "### We can see that there are missing values in following columns; 'No of Times Visited', 'Area of the House from Basement (in Sqft)','Latitude ','Longitude' and 'Living Area after Renovation (in Sqft)'."
   ]
  },
  {
   "cell_type": "markdown",
   "id": "ce1d512b-bc0c-4625-a22a-f3d7bc0a5d95",
   "metadata": {},
   "source": [
    "# Statistical summary of given data"
   ]
  },
  {
   "cell_type": "code",
   "execution_count": 1515,
   "id": "a7dcf3b9-aa15-4d4b-8b1a-46f617028a93",
   "metadata": {},
   "outputs": [
    {
     "data": {
      "text/html": [
       "<div>\n",
       "<style scoped>\n",
       "    .dataframe tbody tr th:only-of-type {\n",
       "        vertical-align: middle;\n",
       "    }\n",
       "\n",
       "    .dataframe tbody tr th {\n",
       "        vertical-align: top;\n",
       "    }\n",
       "\n",
       "    .dataframe thead th {\n",
       "        text-align: right;\n",
       "    }\n",
       "</style>\n",
       "<table border=\"1\" class=\"dataframe\">\n",
       "  <thead>\n",
       "    <tr style=\"text-align: right;\">\n",
       "      <th></th>\n",
       "      <th>Sale Price</th>\n",
       "      <th>No of Bedrooms</th>\n",
       "      <th>Flat Area (in Sqft)</th>\n",
       "      <th>Lot Area (in Sqft)</th>\n",
       "      <th>Overall Grade</th>\n",
       "      <th>Area of the House from Basement (in Sqft)</th>\n",
       "      <th>Basement Area (in Sqft)</th>\n",
       "      <th>Age of House (in Years)</th>\n",
       "      <th>Renovated Year</th>\n",
       "      <th>Living Area after Renovation (in Sqft)</th>\n",
       "      <th>Lot Area after Renovation (in Sqft)</th>\n",
       "    </tr>\n",
       "  </thead>\n",
       "  <tbody>\n",
       "    <tr>\n",
       "      <th>count</th>\n",
       "      <td>2.160900e+04</td>\n",
       "      <td>21613.000000</td>\n",
       "      <td>21604.000000</td>\n",
       "      <td>2.160400e+04</td>\n",
       "      <td>21613.000000</td>\n",
       "      <td>21610.000000</td>\n",
       "      <td>21613.000000</td>\n",
       "      <td>21613.000000</td>\n",
       "      <td>21613.000000</td>\n",
       "      <td>21612.000000</td>\n",
       "      <td>21613.000000</td>\n",
       "    </tr>\n",
       "    <tr>\n",
       "      <th>mean</th>\n",
       "      <td>5.401984e+05</td>\n",
       "      <td>3.370842</td>\n",
       "      <td>2079.931772</td>\n",
       "      <td>1.510776e+04</td>\n",
       "      <td>7.623467</td>\n",
       "      <td>1788.344193</td>\n",
       "      <td>291.509045</td>\n",
       "      <td>46.994864</td>\n",
       "      <td>84.402258</td>\n",
       "      <td>1986.538914</td>\n",
       "      <td>12768.455652</td>\n",
       "    </tr>\n",
       "    <tr>\n",
       "      <th>std</th>\n",
       "      <td>3.673890e+05</td>\n",
       "      <td>0.930062</td>\n",
       "      <td>918.487597</td>\n",
       "      <td>4.142827e+04</td>\n",
       "      <td>1.105439</td>\n",
       "      <td>827.982604</td>\n",
       "      <td>442.575043</td>\n",
       "      <td>29.373411</td>\n",
       "      <td>401.679240</td>\n",
       "      <td>685.404255</td>\n",
       "      <td>27304.179631</td>\n",
       "    </tr>\n",
       "    <tr>\n",
       "      <th>min</th>\n",
       "      <td>7.500000e+04</td>\n",
       "      <td>0.000000</td>\n",
       "      <td>290.000000</td>\n",
       "      <td>5.200000e+02</td>\n",
       "      <td>1.000000</td>\n",
       "      <td>290.000000</td>\n",
       "      <td>0.000000</td>\n",
       "      <td>3.000000</td>\n",
       "      <td>0.000000</td>\n",
       "      <td>399.000000</td>\n",
       "      <td>651.000000</td>\n",
       "    </tr>\n",
       "    <tr>\n",
       "      <th>25%</th>\n",
       "      <td>3.219500e+05</td>\n",
       "      <td>3.000000</td>\n",
       "      <td>1429.250000</td>\n",
       "      <td>5.040000e+03</td>\n",
       "      <td>7.000000</td>\n",
       "      <td>1190.000000</td>\n",
       "      <td>0.000000</td>\n",
       "      <td>21.000000</td>\n",
       "      <td>0.000000</td>\n",
       "      <td>1490.000000</td>\n",
       "      <td>5100.000000</td>\n",
       "    </tr>\n",
       "    <tr>\n",
       "      <th>50%</th>\n",
       "      <td>4.500000e+05</td>\n",
       "      <td>3.000000</td>\n",
       "      <td>1910.000000</td>\n",
       "      <td>7.617500e+03</td>\n",
       "      <td>7.000000</td>\n",
       "      <td>1560.000000</td>\n",
       "      <td>0.000000</td>\n",
       "      <td>43.000000</td>\n",
       "      <td>0.000000</td>\n",
       "      <td>1840.000000</td>\n",
       "      <td>7620.000000</td>\n",
       "    </tr>\n",
       "    <tr>\n",
       "      <th>75%</th>\n",
       "      <td>6.450000e+05</td>\n",
       "      <td>4.000000</td>\n",
       "      <td>2550.000000</td>\n",
       "      <td>1.068825e+04</td>\n",
       "      <td>8.000000</td>\n",
       "      <td>2210.000000</td>\n",
       "      <td>560.000000</td>\n",
       "      <td>67.000000</td>\n",
       "      <td>0.000000</td>\n",
       "      <td>2360.000000</td>\n",
       "      <td>10083.000000</td>\n",
       "    </tr>\n",
       "    <tr>\n",
       "      <th>max</th>\n",
       "      <td>7.700000e+06</td>\n",
       "      <td>33.000000</td>\n",
       "      <td>13540.000000</td>\n",
       "      <td>1.651359e+06</td>\n",
       "      <td>10.000000</td>\n",
       "      <td>9410.000000</td>\n",
       "      <td>4820.000000</td>\n",
       "      <td>118.000000</td>\n",
       "      <td>2015.000000</td>\n",
       "      <td>6210.000000</td>\n",
       "      <td>871200.000000</td>\n",
       "    </tr>\n",
       "  </tbody>\n",
       "</table>\n",
       "</div>"
      ],
      "text/plain": [
       "         Sale Price  No of Bedrooms  Flat Area (in Sqft)  Lot Area (in Sqft)  \\\n",
       "count  2.160900e+04    21613.000000         21604.000000        2.160400e+04   \n",
       "mean   5.401984e+05        3.370842          2079.931772        1.510776e+04   \n",
       "std    3.673890e+05        0.930062           918.487597        4.142827e+04   \n",
       "min    7.500000e+04        0.000000           290.000000        5.200000e+02   \n",
       "25%    3.219500e+05        3.000000          1429.250000        5.040000e+03   \n",
       "50%    4.500000e+05        3.000000          1910.000000        7.617500e+03   \n",
       "75%    6.450000e+05        4.000000          2550.000000        1.068825e+04   \n",
       "max    7.700000e+06       33.000000         13540.000000        1.651359e+06   \n",
       "\n",
       "       Overall Grade  Area of the House from Basement (in Sqft)  \\\n",
       "count   21613.000000                               21610.000000   \n",
       "mean        7.623467                                1788.344193   \n",
       "std         1.105439                                 827.982604   \n",
       "min         1.000000                                 290.000000   \n",
       "25%         7.000000                                1190.000000   \n",
       "50%         7.000000                                1560.000000   \n",
       "75%         8.000000                                2210.000000   \n",
       "max        10.000000                                9410.000000   \n",
       "\n",
       "       Basement Area (in Sqft)  Age of House (in Years)  Renovated Year  \\\n",
       "count             21613.000000             21613.000000    21613.000000   \n",
       "mean                291.509045                46.994864       84.402258   \n",
       "std                 442.575043                29.373411      401.679240   \n",
       "min                   0.000000                 3.000000        0.000000   \n",
       "25%                   0.000000                21.000000        0.000000   \n",
       "50%                   0.000000                43.000000        0.000000   \n",
       "75%                 560.000000                67.000000        0.000000   \n",
       "max                4820.000000               118.000000     2015.000000   \n",
       "\n",
       "       Living Area after Renovation (in Sqft)  \\\n",
       "count                            21612.000000   \n",
       "mean                              1986.538914   \n",
       "std                                685.404255   \n",
       "min                                399.000000   \n",
       "25%                               1490.000000   \n",
       "50%                               1840.000000   \n",
       "75%                               2360.000000   \n",
       "max                               6210.000000   \n",
       "\n",
       "       Lot Area after Renovation (in Sqft)  \n",
       "count                         21613.000000  \n",
       "mean                          12768.455652  \n",
       "std                           27304.179631  \n",
       "min                             651.000000  \n",
       "25%                            5100.000000  \n",
       "50%                            7620.000000  \n",
       "75%                           10083.000000  \n",
       "max                          871200.000000  "
      ]
     },
     "execution_count": 1515,
     "metadata": {},
     "output_type": "execute_result"
    }
   ],
   "source": [
    "data.describe()"
   ]
  },
  {
   "cell_type": "markdown",
   "id": "6d2561db-3afa-409d-abee-07a54d1a2e92",
   "metadata": {},
   "source": [
    "* ### A 50th percentile (median) of 0 and a mean of 291.509045 for Basement Area strongly suggests a highly skewed distribution. This discrepancy indicates that a significant portion of the houses in the dataset likely have no basement (hence the median of 0), while a smaller number of houses have very large basements, pulling the mean upwards."
   ]
  },
  {
   "cell_type": "markdown",
   "id": "e0926065-14d7-4a89-8658-52e2622c67ba",
   "metadata": {},
   "source": [
    "* ### A 50th percentile (median) of 0 and a mean of 84 for renovated year suggests a right-skewed distribution with numerous houses not being renovated (represented by the zero median), and a smaller number of houses being renovated."
   ]
  },
  {
   "cell_type": "markdown",
   "id": "d6d689e7-681f-4c58-b0c9-037f540cd82a",
   "metadata": {},
   "source": [
    "# Check number of nulll values in each column"
   ]
  },
  {
   "cell_type": "code",
   "execution_count": 1519,
   "id": "021ac786-3ef6-4ec4-9c10-1cd6348c570b",
   "metadata": {},
   "outputs": [
    {
     "data": {
      "text/plain": [
       "Date House was Sold                              0\n",
       "Sale Price                                       4\n",
       "No of Bedrooms                                   0\n",
       "No of Bathrooms                                  4\n",
       "Flat Area (in Sqft)                              9\n",
       "Lot Area (in Sqft)                               9\n",
       "No of Floors                                     0\n",
       "Waterfront View                                  0\n",
       "No of Times Visited                          19489\n",
       "Condition of the House                           0\n",
       "Overall Grade                                    0\n",
       "Area of the House from Basement (in Sqft)        3\n",
       "Basement Area (in Sqft)                          0\n",
       "Age of House (in Years)                          0\n",
       "Renovated Year                                   0\n",
       "Living Area after Renovation (in Sqft)           1\n",
       "Lot Area after Renovation (in Sqft)              0\n",
       "dtype: int64"
      ]
     },
     "execution_count": 1519,
     "metadata": {},
     "output_type": "execute_result"
    }
   ],
   "source": [
    "data.isna().sum()"
   ]
  },
  {
   "cell_type": "markdown",
   "id": "353faba3-3292-4977-ac5a-7c773a44fc49",
   "metadata": {},
   "source": [
    "### In 'No of Times Visited' column, out of 21613 rows 19489 are null values. We have only 2124 rows of available data."
   ]
  },
  {
   "cell_type": "markdown",
   "id": "23c1bc05-a391-4cec-bffc-bcfd0ece3140",
   "metadata": {},
   "source": [
    "# Percentage of null values in each column"
   ]
  },
  {
   "cell_type": "code",
   "execution_count": 1522,
   "id": "abddd63b-d565-4d7a-814d-4853b5652c73",
   "metadata": {},
   "outputs": [
    {
     "data": {
      "text/plain": [
       "Date House was Sold                           0.000000\n",
       "Sale Price                                    0.018507\n",
       "No of Bedrooms                                0.000000\n",
       "No of Bathrooms                               0.018507\n",
       "Flat Area (in Sqft)                           0.041642\n",
       "Lot Area (in Sqft)                            0.041642\n",
       "No of Floors                                  0.000000\n",
       "Waterfront View                               0.000000\n",
       "No of Times Visited                          90.172581\n",
       "Condition of the House                        0.000000\n",
       "Overall Grade                                 0.000000\n",
       "Area of the House from Basement (in Sqft)     0.013881\n",
       "Basement Area (in Sqft)                       0.000000\n",
       "Age of House (in Years)                       0.000000\n",
       "Renovated Year                                0.000000\n",
       "Living Area after Renovation (in Sqft)        0.004627\n",
       "Lot Area after Renovation (in Sqft)           0.000000\n",
       "dtype: float64"
      ]
     },
     "execution_count": 1522,
     "metadata": {},
     "output_type": "execute_result"
    }
   ],
   "source": [
    "data.isna().sum()/data.shape[0]*100"
   ]
  },
  {
   "cell_type": "markdown",
   "id": "3afcad9c-701a-47b0-aa0c-b399732e5168",
   "metadata": {},
   "source": [
    "### Since the percentage of null values are above 90, I am dropping the column 'No of Times visited'."
   ]
  },
  {
   "cell_type": "code",
   "execution_count": 1524,
   "id": "f5064abb-0f50-43e8-beb9-b6b39e6ae1e6",
   "metadata": {},
   "outputs": [],
   "source": [
    "data = data.drop(['No of Times Visited'], axis=1) # Drop the column 'No of Times Visited'"
   ]
  },
  {
   "cell_type": "code",
   "execution_count": 1525,
   "id": "d93b2ab2-6570-442c-a114-b79314e5d109",
   "metadata": {},
   "outputs": [
    {
     "data": {
      "text/html": [
       "<div>\n",
       "<style scoped>\n",
       "    .dataframe tbody tr th:only-of-type {\n",
       "        vertical-align: middle;\n",
       "    }\n",
       "\n",
       "    .dataframe tbody tr th {\n",
       "        vertical-align: top;\n",
       "    }\n",
       "\n",
       "    .dataframe thead th {\n",
       "        text-align: right;\n",
       "    }\n",
       "</style>\n",
       "<table border=\"1\" class=\"dataframe\">\n",
       "  <thead>\n",
       "    <tr style=\"text-align: right;\">\n",
       "      <th></th>\n",
       "      <th>Date House was Sold</th>\n",
       "      <th>Sale Price</th>\n",
       "      <th>No of Bedrooms</th>\n",
       "      <th>No of Bathrooms</th>\n",
       "      <th>Flat Area (in Sqft)</th>\n",
       "      <th>Lot Area (in Sqft)</th>\n",
       "      <th>No of Floors</th>\n",
       "      <th>Waterfront View</th>\n",
       "      <th>Condition of the House</th>\n",
       "      <th>Overall Grade</th>\n",
       "      <th>Area of the House from Basement (in Sqft)</th>\n",
       "      <th>Basement Area (in Sqft)</th>\n",
       "      <th>Age of House (in Years)</th>\n",
       "      <th>Renovated Year</th>\n",
       "      <th>Living Area after Renovation (in Sqft)</th>\n",
       "      <th>Lot Area after Renovation (in Sqft)</th>\n",
       "    </tr>\n",
       "  </thead>\n",
       "  <tbody>\n",
       "    <tr>\n",
       "      <th>0</th>\n",
       "      <td>14-Oct-17</td>\n",
       "      <td>221900.0</td>\n",
       "      <td>3</td>\n",
       "      <td>1.0</td>\n",
       "      <td>1180.0</td>\n",
       "      <td>5650.0</td>\n",
       "      <td>1.0</td>\n",
       "      <td>No</td>\n",
       "      <td>Fair</td>\n",
       "      <td>7</td>\n",
       "      <td>1180.0</td>\n",
       "      <td>0</td>\n",
       "      <td>63</td>\n",
       "      <td>0</td>\n",
       "      <td>1340.0</td>\n",
       "      <td>5650</td>\n",
       "    </tr>\n",
       "    <tr>\n",
       "      <th>1</th>\n",
       "      <td>14-Dec-17</td>\n",
       "      <td>538000.0</td>\n",
       "      <td>3</td>\n",
       "      <td>2.0</td>\n",
       "      <td>2570.0</td>\n",
       "      <td>7242.0</td>\n",
       "      <td>2.0</td>\n",
       "      <td>No</td>\n",
       "      <td>Fair</td>\n",
       "      <td>7</td>\n",
       "      <td>2170.0</td>\n",
       "      <td>400</td>\n",
       "      <td>67</td>\n",
       "      <td>1991</td>\n",
       "      <td>1690.0</td>\n",
       "      <td>7639</td>\n",
       "    </tr>\n",
       "  </tbody>\n",
       "</table>\n",
       "</div>"
      ],
      "text/plain": [
       "  Date House was Sold  Sale Price  No of Bedrooms No of Bathrooms  \\\n",
       "0           14-Oct-17    221900.0               3             1.0   \n",
       "1           14-Dec-17    538000.0               3             2.0   \n",
       "\n",
       "   Flat Area (in Sqft)  Lot Area (in Sqft) No of Floors Waterfront View  \\\n",
       "0               1180.0              5650.0          1.0              No   \n",
       "1               2570.0              7242.0          2.0              No   \n",
       "\n",
       "  Condition of the House  Overall Grade  \\\n",
       "0                   Fair              7   \n",
       "1                   Fair              7   \n",
       "\n",
       "   Area of the House from Basement (in Sqft)  Basement Area (in Sqft)  \\\n",
       "0                                     1180.0                        0   \n",
       "1                                     2170.0                      400   \n",
       "\n",
       "   Age of House (in Years)  Renovated Year  \\\n",
       "0                       63               0   \n",
       "1                       67            1991   \n",
       "\n",
       "   Living Area after Renovation (in Sqft)  Lot Area after Renovation (in Sqft)  \n",
       "0                                  1340.0                                 5650  \n",
       "1                                  1690.0                                 7639  "
      ]
     },
     "execution_count": 1525,
     "metadata": {},
     "output_type": "execute_result"
    }
   ],
   "source": [
    "data.head(2)"
   ]
  },
  {
   "cell_type": "markdown",
   "id": "fc7d2227-f67d-440b-a310-346a15bdc1a2",
   "metadata": {},
   "source": [
    "# Check for missing values visually"
   ]
  },
  {
   "cell_type": "code",
   "execution_count": 1527,
   "id": "55a41b40-dcbf-44f9-b18f-59920b1cca7d",
   "metadata": {},
   "outputs": [],
   "source": [
    "# import seaborn as sns\n",
    "# plt.figure(figsize=(12, 6))\n",
    "# plt.title('Missing Values Heatmap')\n",
    "# sns.heatmap(data.isna(),annot=True,cmap='viridis')\n",
    "# plt.show()"
   ]
  },
  {
   "cell_type": "markdown",
   "id": "852333b5-076c-4f43-9218-7d59970079bf",
   "metadata": {},
   "source": [
    "# Checking the data distribution of numerical columns that have missing values\n",
    "#### A histogram provides visual insights into the distribution of data. Skewness in the distribution can indicate the presence of outliers, which are data points that are significantly different from the majority of the data."
   ]
  },
  {
   "cell_type": "code",
   "execution_count": 1529,
   "id": "c4d70762-6919-4a14-a1fc-de1c6eeb9d22",
   "metadata": {},
   "outputs": [
    {
     "data": {
      "image/png": "[encoded data removed]",
      "text/plain": [
       "<Figure size 1000x300 with 1 Axes>"
      ]
     },
     "metadata": {},
     "output_type": "display_data"
    }
   ],
   "source": [
    "plt.figure(figsize=(10, 3))\n",
    "plt.hist(data['Sale Price'], bins=30, color='#1c8065', edgecolor='black')\n",
    "plt.xlabel('Sale Price', fontsize=14)\n",
    "plt.ylabel('Frequency', fontsize=14)\n",
    "plt.grid(axis='y', linestyle='--', alpha=0.7)\n",
    "plt.ticklabel_format(style='plain', axis='x') # To avoid rounded indices in x axis\n",
    "plt.title(\"Distribution of Sale Price\")\n",
    "plt.show()"
   ]
  },
  {
   "cell_type": "markdown",
   "id": "4221343e-4e3a-4431-9803-95145936a06a",
   "metadata": {},
   "source": [
    "### Data is positively skewed."
   ]
  },
  {
   "cell_type": "code",
   "execution_count": 1531,
   "id": "406de4d1-dc4a-4991-a5de-db9e1ce1925f",
   "metadata": {},
   "outputs": [
    {
     "data": {
      "image/png": "[encoded data removed]",
      "text/plain": [
       "<Figure size 1000x300 with 1 Axes>"
      ]
     },
     "metadata": {},
     "output_type": "display_data"
    }
   ],
   "source": [
    "plt.figure(figsize=(10, 3))\n",
    "plt.hist(data['Flat Area (in Sqft)'], bins=30, color='#1c8065', edgecolor='black')\n",
    "plt.xlabel('Flat Area (in sqft)', fontsize=14)\n",
    "plt.ylabel('Frequency', fontsize=14)\n",
    "plt.grid(axis='y', linestyle='--', alpha=0.7)\n",
    "plt.ticklabel_format(style='plain', axis='x') # To avoid rounded indices in x axis\n",
    "plt.title(\"Distribution of flat area\")\n",
    "plt.show()"
   ]
  },
  {
   "cell_type": "markdown",
   "id": "1e269e38-6115-41c9-a5ae-c1885ddc1355",
   "metadata": {},
   "source": [
    "### Data is positively skewed."
   ]
  },
  {
   "cell_type": "code",
   "execution_count": 1533,
   "id": "964febde-c3ec-4905-9831-19c9b39b82f3",
   "metadata": {},
   "outputs": [
    {
     "data": {
      "image/png": "[encoded data removed]",
      "text/plain": [
       "<Figure size 1000x300 with 1 Axes>"
      ]
     },
     "metadata": {},
     "output_type": "display_data"
    }
   ],
   "source": [
    "plt.figure(figsize=(10, 3))\n",
    "plt.hist(data['Lot Area (in Sqft)'], bins=30, color='#1c8065', edgecolor='black')\n",
    "plt.xlabel('Lot Area (in sqft)', fontsize=14)\n",
    "plt.ylabel('Frequency', fontsize=14)\n",
    "plt.grid(axis='y', linestyle='--', alpha=0.7)\n",
    "plt.ticklabel_format(style='plain', axis='x') # To avoid rounded indices in x axis\n",
    "plt.title(\"Distribution of lot area\")\n",
    "plt.show()"
   ]
  },
  {
   "cell_type": "markdown",
   "id": "521f0ba2-fbfa-4a2a-956b-fa21340a0d91",
   "metadata": {},
   "source": [
    "### Data is positively skewed"
   ]
  },
  {
   "cell_type": "code",
   "execution_count": 1535,
   "id": "261ef4c9-30d4-4a15-9991-6dac02fc3366",
   "metadata": {},
   "outputs": [
    {
     "data": {
      "image/png": "[encoded data removed]",
      "text/plain": [
       "<Figure size 1000x300 with 1 Axes>"
      ]
     },
     "metadata": {},
     "output_type": "display_data"
    }
   ],
   "source": [
    "plt.figure(figsize=(10, 3))\n",
    "plt.hist(data['Area of the House from Basement (in Sqft)'], bins=30, color='#1c8065', edgecolor='black')\n",
    "plt.xlabel('Area of the House from Basement (in Sqft)', fontsize=14)\n",
    "plt.ylabel('Frequency', fontsize=14)\n",
    "plt.grid(axis='y', linestyle='--', alpha=0.7)\n",
    "plt.ticklabel_format(style='plain', axis='x') # To avoid rounded indices in x axis\n",
    "plt.title(\"Distribution of Area of the House from Basement\")\n",
    "plt.show()"
   ]
  },
  {
   "cell_type": "markdown",
   "id": "6607926c-cf0f-41ee-86ce-1b2d209777c3",
   "metadata": {},
   "source": [
    "### Data is positively skewed"
   ]
  },
  {
   "cell_type": "code",
   "execution_count": 1537,
   "id": "c35476f8-c057-4ae4-829a-c793f153daf8",
   "metadata": {},
   "outputs": [
    {
     "data": {
      "image/png": "[encoded data removed]",
      "text/plain": [
       "<Figure size 1000x300 with 1 Axes>"
      ]
     },
     "metadata": {},
     "output_type": "display_data"
    }
   ],
   "source": [
    "plt.figure(figsize=(10, 3))\n",
    "plt.hist(data['Living Area after Renovation (in Sqft)'], bins=30, color='#1c8065', edgecolor='black')\n",
    "plt.xlabel('Living Area after Renovation (in Sqft)', fontsize=14)\n",
    "plt.ylabel('Frequency', fontsize=14)\n",
    "plt.grid(axis='y', linestyle='--', alpha=0.7)\n",
    "plt.ticklabel_format(style='plain', axis='x') # To avoid rounded indices in x axis\n",
    "plt.title(\"Distribution of Living Area after Renovation\")\n",
    "plt.show()"
   ]
  },
  {
   "cell_type": "markdown",
   "id": "e6dd5545-42fd-4fd2-9dab-190645742b70",
   "metadata": {},
   "source": [
    "### Data is positively skewed"
   ]
  },
  {
   "cell_type": "markdown",
   "id": "8a24a7fa-8a14-4f51-9434-9a774d3dd599",
   "metadata": {},
   "source": [
    "# Handling missing values"
   ]
  },
  {
   "cell_type": "markdown",
   "id": "0bfe63eb-4069-4ff4-8fd3-3fe4a02487f2",
   "metadata": {},
   "source": [
    "### Since the data shows positive skew, I am using mode to replace the missing values."
   ]
  },
  {
   "cell_type": "markdown",
   "id": "ae612671-0259-41e7-8a85-a9150893c660",
   "metadata": {},
   "source": [
    "* ### Finding mode values of numerical data"
   ]
  },
  {
   "cell_type": "code",
   "execution_count": 1542,
   "id": "b602ee7f-f1a1-486f-96d3-ff6f37d32bd9",
   "metadata": {},
   "outputs": [],
   "source": [
    "# Use index [0] to choose the first mode in case of multi mode series\n",
    "mode_salePrice= data['Sale Price'].mode()[0]\n",
    "mode_flatArea= data['Flat Area (in Sqft)'].mode()[0]\n",
    "mode_lotArea= data['Lot Area (in Sqft)'].mode()[0]\n",
    "mode_area_from_Basement= data['Area of the House from Basement (in Sqft)'].mode()[0]\n",
    "mode_living_area_after_Renovation= data['Living Area after Renovation (in Sqft)'].mode()[0]"
   ]
  },
  {
   "cell_type": "markdown",
   "id": "bf35b1a7-e91b-4031-aed9-95b8ec4d9962",
   "metadata": {},
   "source": [
    "* ### Finding mode of categorical data"
   ]
  },
  {
   "cell_type": "code",
   "execution_count": 1544,
   "id": "faaf0397-4ae5-4f2d-bb56-c6171090c4b9",
   "metadata": {},
   "outputs": [
    {
     "data": {
      "text/plain": [
       "2.0"
      ]
     },
     "execution_count": 1544,
     "metadata": {},
     "output_type": "execute_result"
    }
   ],
   "source": [
    "mode_no_of_Bathrooms= data['No of Bathrooms'].mode()\n",
    "mode_no_of_Bathrooms[0] # Select the first mode from the resulting series to avoid occurance of multiple modes."
   ]
  },
  {
   "cell_type": "markdown",
   "id": "8c1556a1-5d2c-4e88-9202-0edd20d4328a",
   "metadata": {},
   "source": [
    "# Imputation"
   ]
  },
  {
   "cell_type": "markdown",
   "id": "78d2be9f-ce22-41c3-8cf7-0e484e884dec",
   "metadata": {},
   "source": [
    "* ### Numerical data: Replacing missing values with mode"
   ]
  },
  {
   "cell_type": "code",
   "execution_count": 1547,
   "id": "c424d6f6-808f-465a-a388-6d6551c2ca60",
   "metadata": {},
   "outputs": [],
   "source": [
    "data.update({'Sale Price': data['Sale Price'].fillna(mode_salePrice),\n",
    "             'Flat Area (in Sqft)': data['Flat Area (in Sqft)'].fillna(mode_flatArea),\n",
    "            'Lot Area (in Sqft)': data['Lot Area (in Sqft)'].fillna(mode_lotArea),\n",
    "             'Area of the House from Basement (in Sqft)': data['Area of the House from Basement (in Sqft)'].fillna(mode_area_from_Basement),\n",
    "            'Living Area after Renovation (in Sqft)': data['Living Area after Renovation (in Sqft)'].fillna(mode_living_area_after_Renovation)\n",
    "             })"
   ]
  },
  {
   "cell_type": "markdown",
   "id": "5c5b3016-06f8-46b8-b31c-a5bfcaa739ee",
   "metadata": {},
   "source": [
    "* ### Categorical data: Replacing missing values with mode"
   ]
  },
  {
   "cell_type": "code",
   "execution_count": 1549,
   "id": "fefa03c8-70d1-4489-a126-d27e2efda0ba",
   "metadata": {},
   "outputs": [],
   "source": [
    "data.update({'No of Bathrooms': data['No of Bathrooms'].fillna(mode_no_of_Bathrooms[0])})"
   ]
  },
  {
   "cell_type": "markdown",
   "id": "02d83659-7ff2-4e6d-9db6-36c335065cfd",
   "metadata": {},
   "source": [
    "## Replacing missing values in Latitude and Longitude using mean or mode doesn't make any sense. So I am leaving it as it is."
   ]
  },
  {
   "cell_type": "markdown",
   "id": "0b9305e0-c4b4-4ca7-8088-7bcb6b71a8b0",
   "metadata": {},
   "source": [
    "# Check for missing values again"
   ]
  },
  {
   "cell_type": "code",
   "execution_count": 1552,
   "id": "2fbfc807-44f4-41e4-8d6f-755df8cecf85",
   "metadata": {},
   "outputs": [
    {
     "data": {
      "text/plain": [
       "Date House was Sold                          0\n",
       "Sale Price                                   0\n",
       "No of Bedrooms                               0\n",
       "No of Bathrooms                              0\n",
       "Flat Area (in Sqft)                          0\n",
       "Lot Area (in Sqft)                           0\n",
       "No of Floors                                 0\n",
       "Waterfront View                              0\n",
       "Condition of the House                       0\n",
       "Overall Grade                                0\n",
       "Area of the House from Basement (in Sqft)    0\n",
       "Basement Area (in Sqft)                      0\n",
       "Age of House (in Years)                      0\n",
       "Renovated Year                               0\n",
       "Living Area after Renovation (in Sqft)       0\n",
       "Lot Area after Renovation (in Sqft)          0\n",
       "dtype: int64"
      ]
     },
     "execution_count": 1552,
     "metadata": {},
     "output_type": "execute_result"
    }
   ],
   "source": [
    "data.isna().sum()"
   ]
  },
  {
   "cell_type": "markdown",
   "id": "b6240092-0ada-4545-b24c-c4c33412c364",
   "metadata": {},
   "source": [
    "# Check for duplicates"
   ]
  },
  {
   "cell_type": "markdown",
   "id": "c8d356e6-b0de-4df9-9e9c-bfc7f87715a8",
   "metadata": {},
   "source": [
    "* ### Check for duplicated rows"
   ]
  },
  {
   "cell_type": "code",
   "execution_count": 1555,
   "id": "307efaa1-6d41-4513-8c71-4e3d782bf8ba",
   "metadata": {},
   "outputs": [
    {
     "data": {
      "text/plain": [
       "2"
      ]
     },
     "execution_count": 1555,
     "metadata": {},
     "output_type": "execute_result"
    }
   ],
   "source": [
    "data.duplicated().sum() # Finding number of duplicated rows"
   ]
  },
  {
   "cell_type": "markdown",
   "id": "21cea7cb-32ef-4cb5-a225-9f47f533b4d2",
   "metadata": {},
   "source": [
    "* ### Drop duplicate rows"
   ]
  },
  {
   "cell_type": "code",
   "execution_count": 1557,
   "id": "3bc4ca9e-5920-4e0f-8077-319ae893de90",
   "metadata": {},
   "outputs": [
    {
     "data": {
      "text/plain": [
       "(21611, 16)"
      ]
     },
     "execution_count": 1557,
     "metadata": {},
     "output_type": "execute_result"
    }
   ],
   "source": [
    "# Removes all duplicate rows except the first occurrence\n",
    "duplicates = data.duplicated()\n",
    "data = data[~duplicates]  # Keep rows where duplicates is False (not a duplicate)\n",
    "data.shape #Shows updated number of rows and columns after removing duplicates"
   ]
  },
  {
   "cell_type": "markdown",
   "id": "01c10396-e398-4748-bfca-fafe337ab706",
   "metadata": {},
   "source": [
    "* ### Check for duplicate columns visually"
   ]
  },
  {
   "cell_type": "code",
   "execution_count": 1559,
   "id": "fcdd18e1-976b-4342-b757-ca1fc0252fee",
   "metadata": {},
   "outputs": [
    {
     "data": {
      "image/png": "[encoded data removed]",
      "text/plain": [
       "<Figure size 640x480 with 2 Axes>"
      ]
     },
     "metadata": {},
     "output_type": "display_data"
    }
   ],
   "source": [
    "import seaborn as sns\n",
    "num_data=data[['Sale Price','Flat Area (in Sqft)',\n",
    "'Lot Area (in Sqft)','Living Area after Renovation (in Sqft)','Lot Area after Renovation (in Sqft)',\n",
    "'Area of the House from Basement (in Sqft)','Basement Area (in Sqft)','Age of House (in Years)']]\n",
    "sns.heatmap(num_data.corr(), annot=True,cmap='coolwarm') # Correlation value of 1 in any non diagonal tile means it is a duplicate column\n",
    "plt.show()"
   ]
  },
  {
   "cell_type": "markdown",
   "id": "bc3e51f0-394e-4b7c-9b4b-7d33c31a6c2d",
   "metadata": {},
   "source": [
    "### There are no duplicate numerical columns in the dataset"
   ]
  },
  {
   "cell_type": "markdown",
   "id": "f87e7118-c694-4981-abde-35d8d7aa9707",
   "metadata": {},
   "source": [
    "#### High positive correlation (above 0.7): \n",
    "* 'Flat Area (in Sqft)' with 'Area of the House from Basement (in Sqft)': 0.88\n",
    "* 'Flat Area (in Sqft)' with 'Living Area after Renovation (in Sqft)': 0.76\n",
    "* 'Lot Area (in Sqft)' with 'Lot Area after Renovation (in Sqft)': 0.72\n",
    "* 'Living Area after Renovation (in Sqft)' with 'Area of the House from Basement (in Sqft)': 0.73\n",
    "  \n",
    "#### Moderate positive correlation (between 0.3 and 0.7; here I am considering only those values that are close to 0.7):\n",
    "* 'Sale Price' with 'Flat Area(in sqft)': 0.7\n",
    "* 'Sale Price' with 'Area of the House from Basement (in Sqft)': 0.61"
   ]
  },
  {
   "cell_type": "markdown",
   "id": "a454cad7-526e-4bc8-8720-8c86390318f5",
   "metadata": {},
   "source": [
    "# Create a binary categorical column for Renovated/Not Renovated"
   ]
  },
  {
   "cell_type": "code",
   "execution_count": 1563,
   "id": "01fbe454-7d23-42ba-9404-9f3e86f90d14",
   "metadata": {},
   "outputs": [
    {
     "data": {
      "text/html": [
       "<div>\n",
       "<style scoped>\n",
       "    .dataframe tbody tr th:only-of-type {\n",
       "        vertical-align: middle;\n",
       "    }\n",
       "\n",
       "    .dataframe tbody tr th {\n",
       "        vertical-align: top;\n",
       "    }\n",
       "\n",
       "    .dataframe thead th {\n",
       "        text-align: right;\n",
       "    }\n",
       "</style>\n",
       "<table border=\"1\" class=\"dataframe\">\n",
       "  <thead>\n",
       "    <tr style=\"text-align: right;\">\n",
       "      <th></th>\n",
       "      <th>Date House was Sold</th>\n",
       "      <th>Sale Price</th>\n",
       "      <th>No of Bedrooms</th>\n",
       "      <th>No of Bathrooms</th>\n",
       "      <th>Flat Area (in Sqft)</th>\n",
       "      <th>Lot Area (in Sqft)</th>\n",
       "      <th>No of Floors</th>\n",
       "      <th>Waterfront View</th>\n",
       "      <th>Condition of the House</th>\n",
       "      <th>Overall Grade</th>\n",
       "      <th>Area of the House from Basement (in Sqft)</th>\n",
       "      <th>Basement Area (in Sqft)</th>\n",
       "      <th>Age of House (in Years)</th>\n",
       "      <th>Renovated Year</th>\n",
       "      <th>Living Area after Renovation (in Sqft)</th>\n",
       "      <th>Lot Area after Renovation (in Sqft)</th>\n",
       "      <th>Renovated Status</th>\n",
       "    </tr>\n",
       "  </thead>\n",
       "  <tbody>\n",
       "    <tr>\n",
       "      <th>0</th>\n",
       "      <td>14-Oct-17</td>\n",
       "      <td>221900.0</td>\n",
       "      <td>3</td>\n",
       "      <td>1.0</td>\n",
       "      <td>1180.0</td>\n",
       "      <td>5650.0</td>\n",
       "      <td>1.0</td>\n",
       "      <td>No</td>\n",
       "      <td>Fair</td>\n",
       "      <td>7</td>\n",
       "      <td>1180.0</td>\n",
       "      <td>0</td>\n",
       "      <td>63</td>\n",
       "      <td>0</td>\n",
       "      <td>1340.0</td>\n",
       "      <td>5650</td>\n",
       "      <td>Not Renovated</td>\n",
       "    </tr>\n",
       "    <tr>\n",
       "      <th>1</th>\n",
       "      <td>14-Dec-17</td>\n",
       "      <td>538000.0</td>\n",
       "      <td>3</td>\n",
       "      <td>2.0</td>\n",
       "      <td>2570.0</td>\n",
       "      <td>7242.0</td>\n",
       "      <td>2.0</td>\n",
       "      <td>No</td>\n",
       "      <td>Fair</td>\n",
       "      <td>7</td>\n",
       "      <td>2170.0</td>\n",
       "      <td>400</td>\n",
       "      <td>67</td>\n",
       "      <td>1991</td>\n",
       "      <td>1690.0</td>\n",
       "      <td>7639</td>\n",
       "      <td>Renovated</td>\n",
       "    </tr>\n",
       "  </tbody>\n",
       "</table>\n",
       "</div>"
      ],
      "text/plain": [
       "  Date House was Sold  Sale Price  No of Bedrooms No of Bathrooms  \\\n",
       "0           14-Oct-17    221900.0               3             1.0   \n",
       "1           14-Dec-17    538000.0               3             2.0   \n",
       "\n",
       "   Flat Area (in Sqft)  Lot Area (in Sqft) No of Floors Waterfront View  \\\n",
       "0               1180.0              5650.0          1.0              No   \n",
       "1               2570.0              7242.0          2.0              No   \n",
       "\n",
       "  Condition of the House  Overall Grade  \\\n",
       "0                   Fair              7   \n",
       "1                   Fair              7   \n",
       "\n",
       "   Area of the House from Basement (in Sqft)  Basement Area (in Sqft)  \\\n",
       "0                                     1180.0                        0   \n",
       "1                                     2170.0                      400   \n",
       "\n",
       "   Age of House (in Years)  Renovated Year  \\\n",
       "0                       63               0   \n",
       "1                       67            1991   \n",
       "\n",
       "   Living Area after Renovation (in Sqft)  \\\n",
       "0                                  1340.0   \n",
       "1                                  1690.0   \n",
       "\n",
       "   Lot Area after Renovation (in Sqft) Renovated Status  \n",
       "0                                 5650    Not Renovated  \n",
       "1                                 7639        Renovated  "
      ]
     },
     "execution_count": 1563,
     "metadata": {},
     "output_type": "execute_result"
    }
   ],
   "source": [
    "data['Renovated Status'] = data['Renovated Year'].apply(lambda x: 'Renovated' if x > 0 else 'Not Renovated')\n",
    "data.head(2)"
   ]
  },
  {
   "cell_type": "code",
   "execution_count": 1564,
   "id": "d8157388-629f-4323-acf4-f2dbde5b0e2b",
   "metadata": {},
   "outputs": [
    {
     "name": "stdout",
     "output_type": "stream",
     "text": [
      "Renovated Status\n",
      "Not Renovated    20697\n",
      "Renovated          914\n",
      "Name: count, dtype: int64\n"
     ]
    }
   ],
   "source": [
    "# Display the count of each category\n",
    "print(data['Renovated Status'].value_counts())"
   ]
  },
  {
   "cell_type": "code",
   "execution_count": 1565,
   "id": "acd65b93-be08-42ff-abf0-3224a543a72c",
   "metadata": {},
   "outputs": [
    {
     "name": "stdout",
     "output_type": "stream",
     "text": [
      "Updated number of rows: 21611\n",
      "Updated number of columns: 17\n"
     ]
    }
   ],
   "source": [
    "updated_rows=data.shape[0]\n",
    "updated_columns=data.shape[1]\n",
    "print(\"Updated number of rows:\",updated_rows)\n",
    "print(\"Updated number of columns:\",updated_columns)"
   ]
  },
  {
   "cell_type": "markdown",
   "id": "a8647a65-960f-426a-a783-257cc6a2ae0e",
   "metadata": {},
   "source": [
    "# Scaling"
   ]
  },
  {
   "cell_type": "markdown",
   "id": "da647517-4532-441c-b03e-ba7fb14d2d78",
   "metadata": {},
   "source": [
    "### Min-Max scaling can be sensitive to outliers. So I am using standard scaling."
   ]
  },
  {
   "cell_type": "code",
   "execution_count": 1628,
   "id": "6b6bbee2-424f-4feb-b311-8b67e0ab1b3d",
   "metadata": {
    "scrolled": true
   },
   "outputs": [
    {
     "data": {
      "text/html": [
       "<div>\n",
       "<style scoped>\n",
       "    .dataframe tbody tr th:only-of-type {\n",
       "        vertical-align: middle;\n",
       "    }\n",
       "\n",
       "    .dataframe tbody tr th {\n",
       "        vertical-align: top;\n",
       "    }\n",
       "\n",
       "    .dataframe thead th {\n",
       "        text-align: right;\n",
       "    }\n",
       "</style>\n",
       "<table border=\"1\" class=\"dataframe\">\n",
       "  <thead>\n",
       "    <tr style=\"text-align: right;\">\n",
       "      <th></th>\n",
       "      <th>Date House was Sold</th>\n",
       "      <th>Sale Price</th>\n",
       "      <th>No of Bedrooms</th>\n",
       "      <th>No of Bathrooms</th>\n",
       "      <th>Flat Area (in Sqft)</th>\n",
       "      <th>Lot Area (in Sqft)</th>\n",
       "      <th>No of Floors</th>\n",
       "      <th>Waterfront View</th>\n",
       "      <th>Condition of the House</th>\n",
       "      <th>Overall Grade</th>\n",
       "      <th>Area of the House from Basement (in Sqft)</th>\n",
       "      <th>Basement Area (in Sqft)</th>\n",
       "      <th>Age of House (in Years)</th>\n",
       "      <th>Renovated Year</th>\n",
       "      <th>Living Area after Renovation (in Sqft)</th>\n",
       "      <th>Lot Area after Renovation (in Sqft)</th>\n",
       "      <th>Renovated Status</th>\n",
       "    </tr>\n",
       "  </thead>\n",
       "  <tbody>\n",
       "    <tr>\n",
       "      <th>0</th>\n",
       "      <td>14-Oct-17</td>\n",
       "      <td>221900.0</td>\n",
       "      <td>3</td>\n",
       "      <td>1.0</td>\n",
       "      <td>-0.979602</td>\n",
       "      <td>-0.228263</td>\n",
       "      <td>1.0</td>\n",
       "      <td>No</td>\n",
       "      <td>Fair</td>\n",
       "      <td>7</td>\n",
       "      <td>-0.734778</td>\n",
       "      <td>-0.658682</td>\n",
       "      <td>0.544794</td>\n",
       "      <td>0</td>\n",
       "      <td>-0.943400</td>\n",
       "      <td>-0.260745</td>\n",
       "      <td>Not Renovated</td>\n",
       "    </tr>\n",
       "    <tr>\n",
       "      <th>1</th>\n",
       "      <td>14-Dec-17</td>\n",
       "      <td>538000.0</td>\n",
       "      <td>3</td>\n",
       "      <td>2.0</td>\n",
       "      <td>0.533869</td>\n",
       "      <td>-0.189829</td>\n",
       "      <td>2.0</td>\n",
       "      <td>No</td>\n",
       "      <td>Fair</td>\n",
       "      <td>7</td>\n",
       "      <td>0.460978</td>\n",
       "      <td>0.245108</td>\n",
       "      <td>0.680980</td>\n",
       "      <td>1991</td>\n",
       "      <td>-0.432731</td>\n",
       "      <td>-0.187900</td>\n",
       "      <td>Renovated</td>\n",
       "    </tr>\n",
       "    <tr>\n",
       "      <th>2</th>\n",
       "      <td>15-Feb-16</td>\n",
       "      <td>180000.0</td>\n",
       "      <td>2</td>\n",
       "      <td>1.0</td>\n",
       "      <td>-1.426022</td>\n",
       "      <td>-0.123244</td>\n",
       "      <td>1.0</td>\n",
       "      <td>No</td>\n",
       "      <td>Fair</td>\n",
       "      <td>6</td>\n",
       "      <td>-1.229990</td>\n",
       "      <td>-0.658682</td>\n",
       "      <td>1.293818</td>\n",
       "      <td>0</td>\n",
       "      <td>1.070096</td>\n",
       "      <td>-0.172408</td>\n",
       "      <td>Not Renovated</td>\n",
       "    </tr>\n",
       "    <tr>\n",
       "      <th>3</th>\n",
       "      <td>14-Dec-17</td>\n",
       "      <td>604000.0</td>\n",
       "      <td>4</td>\n",
       "      <td>3.0</td>\n",
       "      <td>-0.130316</td>\n",
       "      <td>-0.243956</td>\n",
       "      <td>1.0</td>\n",
       "      <td>No</td>\n",
       "      <td>Excellent</td>\n",
       "      <td>7</td>\n",
       "      <td>-0.891796</td>\n",
       "      <td>1.397441</td>\n",
       "      <td>0.204328</td>\n",
       "      <td>0</td>\n",
       "      <td>-0.914219</td>\n",
       "      <td>-0.284550</td>\n",
       "      <td>Not Renovated</td>\n",
       "    </tr>\n",
       "    <tr>\n",
       "      <th>4</th>\n",
       "      <td>15-Feb-16</td>\n",
       "      <td>510000.0</td>\n",
       "      <td>3</td>\n",
       "      <td>2.0</td>\n",
       "      <td>-0.435188</td>\n",
       "      <td>-0.169597</td>\n",
       "      <td>1.0</td>\n",
       "      <td>No</td>\n",
       "      <td>Fair</td>\n",
       "      <td>8</td>\n",
       "      <td>-0.130861</td>\n",
       "      <td>-0.658682</td>\n",
       "      <td>-0.544696</td>\n",
       "      <td>0</td>\n",
       "      <td>-0.272235</td>\n",
       "      <td>-0.192881</td>\n",
       "      <td>Not Renovated</td>\n",
       "    </tr>\n",
       "    <tr>\n",
       "      <th>...</th>\n",
       "      <td>...</td>\n",
       "      <td>...</td>\n",
       "      <td>...</td>\n",
       "      <td>...</td>\n",
       "      <td>...</td>\n",
       "      <td>...</td>\n",
       "      <td>...</td>\n",
       "      <td>...</td>\n",
       "      <td>...</td>\n",
       "      <td>...</td>\n",
       "      <td>...</td>\n",
       "      <td>...</td>\n",
       "      <td>...</td>\n",
       "      <td>...</td>\n",
       "      <td>...</td>\n",
       "      <td>...</td>\n",
       "      <td>...</td>\n",
       "    </tr>\n",
       "    <tr>\n",
       "      <th>21608</th>\n",
       "      <td>14-May-17</td>\n",
       "      <td>360000.0</td>\n",
       "      <td>3</td>\n",
       "      <td>2.0</td>\n",
       "      <td>-0.598512</td>\n",
       "      <td>-0.337363</td>\n",
       "      <td>3.0</td>\n",
       "      <td>No</td>\n",
       "      <td>Fair</td>\n",
       "      <td>8</td>\n",
       "      <td>-0.312036</td>\n",
       "      <td>-0.658682</td>\n",
       "      <td>-1.293720</td>\n",
       "      <td>0</td>\n",
       "      <td>-0.666179</td>\n",
       "      <td>-0.412404</td>\n",
       "      <td>Not Renovated</td>\n",
       "    </tr>\n",
       "    <tr>\n",
       "      <th>21609</th>\n",
       "      <td>15-Feb-16</td>\n",
       "      <td>400000.0</td>\n",
       "      <td>4</td>\n",
       "      <td>2.0</td>\n",
       "      <td>0.250774</td>\n",
       "      <td>-0.224328</td>\n",
       "      <td>2.0</td>\n",
       "      <td>No</td>\n",
       "      <td>Fair</td>\n",
       "      <td>8</td>\n",
       "      <td>0.630075</td>\n",
       "      <td>-0.658682</td>\n",
       "      <td>-1.463953</td>\n",
       "      <td>0</td>\n",
       "      <td>-0.228463</td>\n",
       "      <td>-0.203978</td>\n",
       "      <td>Not Renovated</td>\n",
       "    </tr>\n",
       "    <tr>\n",
       "      <th>21610</th>\n",
       "      <td>14-Jun-17</td>\n",
       "      <td>402101.0</td>\n",
       "      <td>2</td>\n",
       "      <td>0.0</td>\n",
       "      <td>-1.153815</td>\n",
       "      <td>-0.332076</td>\n",
       "      <td>2.0</td>\n",
       "      <td>No</td>\n",
       "      <td>Fair</td>\n",
       "      <td>7</td>\n",
       "      <td>-0.928031</td>\n",
       "      <td>-0.658682</td>\n",
       "      <td>-1.293720</td>\n",
       "      <td>0</td>\n",
       "      <td>-1.410298</td>\n",
       "      <td>-0.394166</td>\n",
       "      <td>Not Renovated</td>\n",
       "    </tr>\n",
       "    <tr>\n",
       "      <th>21611</th>\n",
       "      <td>15-Jan-16</td>\n",
       "      <td>400000.0</td>\n",
       "      <td>3</td>\n",
       "      <td>2.0</td>\n",
       "      <td>-0.522294</td>\n",
       "      <td>-0.307016</td>\n",
       "      <td>2.0</td>\n",
       "      <td>No</td>\n",
       "      <td>Fair</td>\n",
       "      <td>8</td>\n",
       "      <td>-0.227487</td>\n",
       "      <td>-0.658682</td>\n",
       "      <td>-1.123487</td>\n",
       "      <td>0</td>\n",
       "      <td>-0.841266</td>\n",
       "      <td>-0.420535</td>\n",
       "      <td>Not Renovated</td>\n",
       "    </tr>\n",
       "    <tr>\n",
       "      <th>21612</th>\n",
       "      <td>14-Oct-17</td>\n",
       "      <td>325000.0</td>\n",
       "      <td>2</td>\n",
       "      <td>0.0</td>\n",
       "      <td>-1.153815</td>\n",
       "      <td>-0.338691</td>\n",
       "      <td>2.0</td>\n",
       "      <td>No</td>\n",
       "      <td>Fair</td>\n",
       "      <td>7</td>\n",
       "      <td>-0.928031</td>\n",
       "      <td>-0.658682</td>\n",
       "      <td>-1.259673</td>\n",
       "      <td>0</td>\n",
       "      <td>-1.410298</td>\n",
       "      <td>-0.417971</td>\n",
       "      <td>Not Renovated</td>\n",
       "    </tr>\n",
       "  </tbody>\n",
       "</table>\n",
       "<p>21611 rows × 17 columns</p>\n",
       "</div>"
      ],
      "text/plain": [
       "      Date House was Sold  Sale Price  No of Bedrooms  No of Bathrooms  \\\n",
       "0               14-Oct-17    221900.0               3              1.0   \n",
       "1               14-Dec-17    538000.0               3              2.0   \n",
       "2               15-Feb-16    180000.0               2              1.0   \n",
       "3               14-Dec-17    604000.0               4              3.0   \n",
       "4               15-Feb-16    510000.0               3              2.0   \n",
       "...                   ...         ...             ...              ...   \n",
       "21608           14-May-17    360000.0               3              2.0   \n",
       "21609           15-Feb-16    400000.0               4              2.0   \n",
       "21610           14-Jun-17    402101.0               2              0.0   \n",
       "21611           15-Jan-16    400000.0               3              2.0   \n",
       "21612           14-Oct-17    325000.0               2              0.0   \n",
       "\n",
       "       Flat Area (in Sqft)  Lot Area (in Sqft)  No of Floors Waterfront View  \\\n",
       "0                -0.979602           -0.228263           1.0              No   \n",
       "1                 0.533869           -0.189829           2.0              No   \n",
       "2                -1.426022           -0.123244           1.0              No   \n",
       "3                -0.130316           -0.243956           1.0              No   \n",
       "4                -0.435188           -0.169597           1.0              No   \n",
       "...                    ...                 ...           ...             ...   \n",
       "21608            -0.598512           -0.337363           3.0              No   \n",
       "21609             0.250774           -0.224328           2.0              No   \n",
       "21610            -1.153815           -0.332076           2.0              No   \n",
       "21611            -0.522294           -0.307016           2.0              No   \n",
       "21612            -1.153815           -0.338691           2.0              No   \n",
       "\n",
       "      Condition of the House  Overall Grade  \\\n",
       "0                       Fair              7   \n",
       "1                       Fair              7   \n",
       "2                       Fair              6   \n",
       "3                  Excellent              7   \n",
       "4                       Fair              8   \n",
       "...                      ...            ...   \n",
       "21608                   Fair              8   \n",
       "21609                   Fair              8   \n",
       "21610                   Fair              7   \n",
       "21611                   Fair              8   \n",
       "21612                   Fair              7   \n",
       "\n",
       "       Area of the House from Basement (in Sqft)  Basement Area (in Sqft)  \\\n",
       "0                                      -0.734778                -0.658682   \n",
       "1                                       0.460978                 0.245108   \n",
       "2                                      -1.229990                -0.658682   \n",
       "3                                      -0.891796                 1.397441   \n",
       "4                                      -0.130861                -0.658682   \n",
       "...                                          ...                      ...   \n",
       "21608                                  -0.312036                -0.658682   \n",
       "21609                                   0.630075                -0.658682   \n",
       "21610                                  -0.928031                -0.658682   \n",
       "21611                                  -0.227487                -0.658682   \n",
       "21612                                  -0.928031                -0.658682   \n",
       "\n",
       "       Age of House (in Years)  Renovated Year  \\\n",
       "0                     0.544794               0   \n",
       "1                     0.680980            1991   \n",
       "2                     1.293818               0   \n",
       "3                     0.204328               0   \n",
       "4                    -0.544696               0   \n",
       "...                        ...             ...   \n",
       "21608                -1.293720               0   \n",
       "21609                -1.463953               0   \n",
       "21610                -1.293720               0   \n",
       "21611                -1.123487               0   \n",
       "21612                -1.259673               0   \n",
       "\n",
       "       Living Area after Renovation (in Sqft)  \\\n",
       "0                                   -0.943400   \n",
       "1                                   -0.432731   \n",
       "2                                    1.070096   \n",
       "3                                   -0.914219   \n",
       "4                                   -0.272235   \n",
       "...                                       ...   \n",
       "21608                               -0.666179   \n",
       "21609                               -0.228463   \n",
       "21610                               -1.410298   \n",
       "21611                               -0.841266   \n",
       "21612                               -1.410298   \n",
       "\n",
       "       Lot Area after Renovation (in Sqft) Renovated Status  \n",
       "0                                -0.260745    Not Renovated  \n",
       "1                                -0.187900        Renovated  \n",
       "2                                -0.172408    Not Renovated  \n",
       "3                                -0.284550    Not Renovated  \n",
       "4                                -0.192881    Not Renovated  \n",
       "...                                    ...              ...  \n",
       "21608                            -0.412404    Not Renovated  \n",
       "21609                            -0.203978    Not Renovated  \n",
       "21610                            -0.394166    Not Renovated  \n",
       "21611                            -0.420535    Not Renovated  \n",
       "21612                            -0.417971    Not Renovated  \n",
       "\n",
       "[21611 rows x 17 columns]"
      ]
     },
     "metadata": {},
     "output_type": "display_data"
    }
   ],
   "source": [
    "from sklearn.preprocessing import StandardScaler\n",
    "\n",
    "numerical_cols=['Flat Area (in Sqft)',\n",
    "'Lot Area (in Sqft)','Living Area after Renovation (in Sqft)','Lot Area after Renovation (in Sqft)',\n",
    "'Area of the House from Basement (in Sqft)','Basement Area (in Sqft)','Age of House (in Years)']\n",
    "\n",
    "# Standard Scaling\n",
    "std_scaler = StandardScaler()\n",
    "data_standard_scaled[numerical_cols] = standard_scaler.fit_transform(data[numerical_cols])\n",
    "display(data_standard_scaled)\n"
   ]
  },
  {
   "cell_type": "markdown",
   "id": "78a13fe3-73d9-4c84-a797-95ddbce40eec",
   "metadata": {},
   "source": [
    "# Rounding off the columns 'No of Bathrooms' and 'No of floors' to the nearest integer"
   ]
  },
  {
   "cell_type": "code",
   "execution_count": 1630,
   "id": "ecfe0e10-d5fb-4386-a4c5-fe2249a31464",
   "metadata": {},
   "outputs": [],
   "source": [
    "data_standard_scaled['No of Bathrooms'] = data_standard_scaled['No of Bathrooms'].round()\n",
    "# Convert the rounded values to categorical data\n",
    "data_standard_scaled['No of Bathrooms'] = data_standard_scaled['No of Bathrooms'].astype('category')\n",
    "\n",
    "\n",
    "data_standard_scaled['No of Floors'] = data_standard_scaled['No of Floors'].round()\n",
    "# Convert the rounded values to categorical data\n",
    "data_standard_scaled['No of Floors'] = data_standard_scaled['No of Floors'].astype('category')"
   ]
  },
  {
   "cell_type": "markdown",
   "id": "000e9c40-9801-4bb1-b950-15a51397c6cd",
   "metadata": {},
   "source": [
    "# Encoding"
   ]
  },
  {
   "cell_type": "markdown",
   "id": "25a30fe1-590e-45ae-bcc0-c10d1e6e6b5d",
   "metadata": {},
   "source": [
    "### Nominal Data\n",
    "* Waterfront View (Yes/No)\n",
    "* Renovated status (Renovated/Not Renovated)"
   ]
  },
  {
   "cell_type": "code",
   "execution_count": 1571,
   "id": "2f21da25-1fe7-465d-8ba0-f59bc7457d0c",
   "metadata": {},
   "outputs": [
    {
     "name": "stdout",
     "output_type": "stream",
     "text": [
      "['No' 'Yes']\n",
      "['Not Renovated' 'Renovated']\n"
     ]
    }
   ],
   "source": [
    "#### Checking unique values\n",
    "print(data_standard_scaled['Waterfront View'].unique())\n",
    "print(data_standard_scaled['Renovated Status'].unique())"
   ]
  },
  {
   "cell_type": "markdown",
   "id": "dc57b7d5-141f-4ade-886f-6ea9225718c6",
   "metadata": {},
   "source": [
    "### Ordinal Data\n",
    "* No of Bedrooms\n",
    "* No of Floors\n",
    "* Condition of the House (Poor, Fair, Good, Excellent)\n",
    "* Overall Grade (a rating with an order)"
   ]
  },
  {
   "cell_type": "code",
   "execution_count": 1573,
   "id": "29e8735c-f732-40c1-8e7e-a9d0b93b0e78",
   "metadata": {},
   "outputs": [
    {
     "name": "stdout",
     "output_type": "stream",
     "text": [
      "[ 3  2  4  5  1  6  7  0  8  9 11 10 33]\n",
      "[1.  2.  1.5 3.  2.5 3.5]\n",
      "['Fair' 'Excellent' 'Good' 'Bad' 'Okay']\n",
      "[ 7  6  8 10  9  5  4  3  2  1]\n"
     ]
    }
   ],
   "source": [
    "print(data_standard_scaled['No of Bedrooms'].unique())\n",
    "print(data_standard_scaled['No of Floors'].unique())\n",
    "print(data_standard_scaled['Condition of the House'].unique())\n",
    "print(data_standard_scaled['Overall Grade'].unique())"
   ]
  },
  {
   "cell_type": "code",
   "execution_count": null,
   "id": "e15f5c72-397e-49b3-a610-7967278157f9",
   "metadata": {},
   "outputs": [],
   "source": []
  },
  {
   "cell_type": "code",
   "execution_count": null,
   "id": "441d034b-47a9-4b8e-8da8-1386af89ee2c",
   "metadata": {},
   "outputs": [],
   "source": []
  },
  {
   "cell_type": "markdown",
   "id": "48b5588d-2aad-468b-b006-c207f2515eba",
   "metadata": {},
   "source": [
    "# Outlier Handling"
   ]
  },
  {
   "cell_type": "code",
   "execution_count": 1616,
   "id": "b13e1975-c71e-4dd7-b8a7-293370e5e6f9",
   "metadata": {},
   "outputs": [
    {
     "data": {
      "image/png": "[encoded data removed]",
      "text/plain": [
       "<Figure size 640x480 with 1 Axes>"
      ]
     },
     "metadata": {},
     "output_type": "display_data"
    }
   ],
   "source": [
    "# Ensure you are providing only numerical data in box float\n",
    "num_data=data_standard_scaled[['Sale Price','Flat Area (in Sqft)',\n",
    "'Lot Area (in Sqft)','Living Area after Renovation (in Sqft)','Lot Area after Renovation (in Sqft)',\n",
    "'Area of the House from Basement (in Sqft)','Basement Area (in Sqft)','Age of House (in Years)']]\n",
    "plt.boxplot(num_data)\n",
    "plt.xticks(rotation = 45)\n",
    "plt.show()"
   ]
  },
  {
   "cell_type": "code",
   "execution_count": null,
   "id": "1f46081b-7a78-445c-ba6b-39cfae688886",
   "metadata": {},
   "outputs": [],
   "source": []
  },
  {
   "cell_type": "code",
   "execution_count": null,
   "id": "e448e1ea-373a-4980-89d3-a1412e31f213",
   "metadata": {},
   "outputs": [],
   "source": []
  }
 ],
 "metadata": {
  "kernelspec": {
   "display_name": "Python 3 (ipykernel)",
   "language": "python",
   "name": "python3"
  },
  "language_info": {
   "codemirror_mode": {
    "name": "ipython",
    "version": 3
   },
   "file_extension": ".py",
   "mimetype": "text/x-python",
   "name": "python",
   "nbconvert_exporter": "python",
   "pygments_lexer": "ipython3",
   "version": "3.12.7"
  }
 },
 "nbformat": 4,
 "nbformat_minor": 5
}
